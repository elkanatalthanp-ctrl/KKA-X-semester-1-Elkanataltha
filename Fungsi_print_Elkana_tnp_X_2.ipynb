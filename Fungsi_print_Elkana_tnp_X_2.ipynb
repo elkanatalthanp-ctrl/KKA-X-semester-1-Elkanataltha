{
  "nbformat": 4,
  "nbformat_minor": 0,
  "metadata": {
    "colab": {
      "provenance": [],
      "authorship_tag": "ABX9TyPrdv+wWpNOHsiNeEJFGS/B",
      "include_colab_link": true
    },
    "kernelspec": {
      "name": "python3",
      "display_name": "Python 3"
    },
    "language_info": {
      "name": "python"
    }
  },
  "cells": [
    {
      "cell_type": "markdown",
      "metadata": {
        "id": "view-in-github",
        "colab_type": "text"
      },
      "source": [
        "<a href=\"https://colab.research.google.com/github/elkanatalthanp-ctrl/KKA-X-semester-1-Elkanataltha/blob/main/Fungsi_print_Elkana_tnp_X_2.ipynb\" target=\"_parent\"><img src=\"https://colab.research.google.com/assets/colab-badge.svg\" alt=\"Open In Colab\"/></a>"
      ]
    },
    {
      "cell_type": "markdown",
      "source": [
        "Nama:Elkana Taltha Nydia Prasanti\n",
        "\n",
        "\n",
        "Kelas:X-2\n",
        "\n",
        "Nomor Absen:10"
      ],
      "metadata": {
        "id": "Z_yRpdHRtz-N"
      }
    },
    {
      "cell_type": "markdown",
      "source": [],
      "metadata": {
        "id": "fq_IrLH201CO"
      }
    },
    {
      "cell_type": "markdown",
      "source": [
        "#parameter fungsi print"
      ],
      "metadata": {
        "id": "5xSxDpGE1uqH"
      }
    },
    {
      "cell_type": "code",
      "source": [
        "\n",
        "print('Bu Shinta berkata, \"Berikut adalah daftar piket harian kelas X.2 yang disimpan di file D:\\\\MAN Demak\\\\Jadwal piket.\".')\n",
        "Senin......Selasa......Rabu\n",
        "\n",
        "Jielo......Hasbi......Naufal\n",
        "Azam...... Aida...... Nurul"
      ],
      "metadata": {
        "colab": {
          "base_uri": "https://localhost:8080/",
          "height": 124
        },
        "id": "hahovnGG7OOJ",
        "outputId": "7ee29745-e16d-4b45-e102-b798889b638b"
      },
      "execution_count": null,
      "outputs": [
        {
          "output_type": "error",
          "ename": "SyntaxError",
          "evalue": "invalid syntax (ipython-input-4274628964.py, line 2)",
          "traceback": [
            "\u001b[0;36m  File \u001b[0;32m\"/tmp/ipython-input-4274628964.py\"\u001b[0;36m, line \u001b[0;32m2\u001b[0m\n\u001b[0;31m    Senin......Selasa......Rabu\u001b[0m\n\u001b[0m         ^\u001b[0m\n\u001b[0;31mSyntaxError\u001b[0m\u001b[0;31m:\u001b[0m invalid syntax\n"
          ]
        }
      ]
    },
    {
      "cell_type": "code",
      "source": [
        "nama_siswa_1=\"jielo\"\n",
        "nama_siswa_2=\"Aida\"\n",
        "nama_siswa_3=\"Dani\"\n",
        "\n",
        "print(nama_siswa_1, end=\"-\")\n",
        "print(nama_siswa_2, end=\"-\")\n",
        "print(nama_siswa_3)"
      ],
      "metadata": {
        "id": "IKDkbHTN2EAv",
        "colab": {
          "base_uri": "https://localhost:8080/"
        },
        "outputId": "4f31c340-bd49-4cbb-a9d4-044b3980560d"
      },
      "execution_count": null,
      "outputs": [
        {
          "output_type": "stream",
          "name": "stdout",
          "text": [
            "jielo-Aida-Dani\n"
          ]
        }
      ]
    },
    {
      "cell_type": "markdown",
      "source": [],
      "metadata": {
        "id": "IoZ2NMg112mS"
      }
    },
    {
      "cell_type": "markdown",
      "source": [],
      "metadata": {
        "id": "GbKUO7cv13GD"
      }
    },
    {
      "cell_type": "markdown",
      "source": [],
      "metadata": {
        "id": "y_r74yIb14er"
      }
    },
    {
      "cell_type": "code",
      "source": [
        "nama_siswa_1=\"jielo\"\n",
        "nama_siswa_2=\"Aida\"\n",
        "nama_siswa_3=\"Dani\"\n",
        "nama_siswa_4=\"Nurul\"\n",
        "\n",
        "print(nama_siswa_4, end=\"/\")\n",
        "print(nama_siswa_2, end=\"/\")\n",
        "print(nama_siswa_1, end=\"/\")\n",
        "print(nama_siswa_3,)"
      ],
      "metadata": {
        "colab": {
          "base_uri": "https://localhost:8080/"
        },
        "id": "xw6KQNOE158j",
        "outputId": "b2c9aa25-cc3c-451c-bf39-256ed7afaca3"
      },
      "execution_count": null,
      "outputs": [
        {
          "output_type": "stream",
          "name": "stdout",
          "text": [
            "Nurul/Aida/jielo/Dani\n"
          ]
        }
      ]
    },
    {
      "cell_type": "code",
      "source": [
        "nama_siswa_5=\"Hasbi\"\n",
        "nama_siswa_6=\"Habibi\"\n",
        "nama_siswa_7=\"Rendra\"\n",
        "nama_siswa_8=\"Naufal\"\n",
        "\n",
        "print(nama_siswa_5,nama_siswa_8, nama_siswa_7,nama_siswa_6,nama_siswa_8, sep=\"*\")"
      ],
      "metadata": {
        "colab": {
          "base_uri": "https://localhost:8080/"
        },
        "id": "QwbU4vet4R6e",
        "outputId": "9edaae5e-cb3b-4f98-a68e-72fe8d60881f"
      },
      "execution_count": null,
      "outputs": [
        {
          "output_type": "stream",
          "name": "stdout",
          "text": [
            "Hasbi*Naufal*Rendra*Habibi*Naufal\n"
          ]
        }
      ]
    },
    {
      "cell_type": "markdown",
      "source": [
        "#Menampilkan  teks bebas"
      ],
      "metadata": {
        "id": "y60fyOFvunWY"
      }
    },
    {
      "cell_type": "code",
      "execution_count": null,
      "metadata": {
        "colab": {
          "base_uri": "https://localhost:8080/"
        },
        "id": "mB1m-nMztCt1",
        "outputId": "0841802d-373b-49dc-e13b-3afa3d424c1d"
      },
      "outputs": [
        {
          "output_type": "stream",
          "name": "stdout",
          "text": [
            "hello world!\n"
          ]
        }
      ],
      "source": [
        "print(\"hello world!\")"
      ]
    },
    {
      "cell_type": "code",
      "source": [
        "Elkana Taltha Nydia Prasanti"
      ],
      "metadata": {
        "colab": {
          "base_uri": "https://localhost:8080/",
          "height": 124
        },
        "id": "RhC-SFfVwb9i",
        "outputId": "939b432e-7f97-4c67-a23b-5e3301fb7990"
      },
      "execution_count": null,
      "outputs": [
        {
          "output_type": "error",
          "ename": "SyntaxError",
          "evalue": "invalid syntax (ipython-input-446324266.py, line 1)",
          "traceback": [
            "\u001b[0;36m  File \u001b[0;32m\"/tmp/ipython-input-446324266.py\"\u001b[0;36m, line \u001b[0;32m1\u001b[0m\n\u001b[0;31m    Elkana Taltha Nydia Prasanti\u001b[0m\n\u001b[0m           ^\u001b[0m\n\u001b[0;31mSyntaxError\u001b[0m\u001b[0;31m:\u001b[0m invalid syntax\n"
          ]
        }
      ]
    },
    {
      "cell_type": "markdown",
      "source": [
        "#Menampilkan nilai variabel"
      ],
      "metadata": {
        "id": "D_Osa_Ffw1tw"
      }
    },
    {
      "cell_type": "code",
      "source": [
        "berat_badan=50\n",
        "print(berat_badan)"
      ],
      "metadata": {
        "colab": {
          "base_uri": "https://localhost:8080/"
        },
        "id": "Wfp60GYqxL0U",
        "outputId": "b8bfde65-ac73-4ddc-c4df-3e042977e13f"
      },
      "execution_count": null,
      "outputs": [
        {
          "output_type": "stream",
          "name": "stdout",
          "text": [
            "50\n"
          ]
        }
      ]
    },
    {
      "cell_type": "code",
      "source": [
        "Nama=\"Elkana Taltha Nydia Prasanti\"\n",
        "print(Nama)"
      ],
      "metadata": {
        "colab": {
          "base_uri": "https://localhost:8080/"
        },
        "id": "orXCxPe-xwA-",
        "outputId": "873a4abf-e8de-4a58-dd64-b138888adaff"
      },
      "execution_count": null,
      "outputs": [
        {
          "output_type": "stream",
          "name": "stdout",
          "text": [
            "Elkana Taltha Nydia Prasanti\n"
          ]
        }
      ]
    },
    {
      "cell_type": "markdown",
      "source": [
        "Variabel usia"
      ],
      "metadata": {
        "id": "cKJaItH2yPqR"
      }
    },
    {
      "cell_type": "code",
      "source": [
        "Variabel usia=16"
      ],
      "metadata": {
        "colab": {
          "base_uri": "https://localhost:8080/",
          "height": 124
        },
        "id": "f1Uuxo2JyaCK",
        "outputId": "763cee89-7ff0-4ab8-f4e7-2f427fe17c2d"
      },
      "execution_count": null,
      "outputs": [
        {
          "output_type": "error",
          "ename": "SyntaxError",
          "evalue": "invalid syntax (ipython-input-1318588312.py, line 1)",
          "traceback": [
            "\u001b[0;36m  File \u001b[0;32m\"/tmp/ipython-input-1318588312.py\"\u001b[0;36m, line \u001b[0;32m1\u001b[0m\n\u001b[0;31m    Variabel usia\u001b[0m\n\u001b[0m             ^\u001b[0m\n\u001b[0;31mSyntaxError\u001b[0m\u001b[0;31m:\u001b[0m invalid syntax\n"
          ]
        }
      ]
    },
    {
      "cell_type": "code",
      "source": [],
      "metadata": {
        "id": "nAImpJ_Gyrx0"
      },
      "execution_count": null,
      "outputs": []
    },
    {
      "cell_type": "markdown",
      "source": [
        "Menampilkan teks bebas dan nilai variabel"
      ],
      "metadata": {
        "id": "A-BYV3hJysiH"
      }
    },
    {
      "cell_type": "code",
      "source": [
        "print(\"berat badan saya adalah \",berat_badan\"Kg.\")"
      ],
      "metadata": {
        "colab": {
          "base_uri": "https://localhost:8080/",
          "height": 159
        },
        "id": "QctK3r6syyKC",
        "outputId": "47e7bd85-9f7e-4e51-b682-583bfe159d95"
      },
      "execution_count": null,
      "outputs": [
        {
          "output_type": "error",
          "ename": "SyntaxError",
          "evalue": "invalid syntax (ipython-input-1696377270.py, line 1)",
          "traceback": [
            "\u001b[0;36m  File \u001b[0;32m\"/tmp/ipython-input-1696377270.py\"\u001b[0;36m, line \u001b[0;32m1\u001b[0m\n\u001b[0;31m    print(\"berat badan saya adalah \",berat_badan\"Kg.\")\u001b[0m\n\u001b[0m                                                ^\u001b[0m\n\u001b[0;31mSyntaxError\u001b[0m\u001b[0;31m:\u001b[0m invalid syntax\n"
          ]
        }
      ]
    },
    {
      "cell_type": "code",
      "source": [
        "(perkenalkan nama saya)"
      ],
      "metadata": {
        "colab": {
          "base_uri": "https://localhost:8080/",
          "height": 141
        },
        "id": "8VTFcAOhznvV",
        "outputId": "94b136af-86e3-41c4-9336-75ac46fefcc0"
      },
      "execution_count": null,
      "outputs": [
        {
          "output_type": "error",
          "ename": "SyntaxError",
          "evalue": "invalid syntax. Perhaps you forgot a comma? (ipython-input-2867150644.py, line 1)",
          "traceback": [
            "\u001b[0;36m  File \u001b[0;32m\"/tmp/ipython-input-2867150644.py\"\u001b[0;36m, line \u001b[0;32m1\u001b[0m\n\u001b[0;31m    (perkenalkan nama saya)\u001b[0m\n\u001b[0m     ^\u001b[0m\n\u001b[0;31mSyntaxError\u001b[0m\u001b[0;31m:\u001b[0m invalid syntax. Perhaps you forgot a comma?\n"
          ]
        }
      ]
    },
    {
      "cell_type": "code",
      "source": [
        "print(\"perkenalkan nama saya, \",Nama,\".\")"
      ],
      "metadata": {
        "colab": {
          "base_uri": "https://localhost:8080/"
        },
        "id": "X3Gui2H70FSm",
        "outputId": "d38405df-a088-4b49-9ff2-b55c58eb36ce"
      },
      "execution_count": null,
      "outputs": [
        {
          "output_type": "stream",
          "name": "stdout",
          "text": [
            "perkenalkan nama saya,  Elkana Taltha Nydia Prasanti .\n"
          ]
        }
      ]
    },
    {
      "cell_type": "code",
      "source": [
        "print(\"perkenalkan nama saya, \",Nama +\".\")"
      ],
      "metadata": {
        "colab": {
          "base_uri": "https://localhost:8080/"
        },
        "id": "wG64mQVm0oXh",
        "outputId": "176d0a40-8dd6-4b89-fbda-123aa04284d1"
      },
      "execution_count": null,
      "outputs": [
        {
          "output_type": "stream",
          "name": "stdout",
          "text": [
            "perkenalkan nama saya,  Elkana Taltha Nydia Prasanti.\n"
          ]
        }
      ]
    },
    {
      "cell_type": "code",
      "source": [
        "print(\"berat badan saya adalah \"+str(berat_badan)+\"Kg.\")"
      ],
      "metadata": {
        "colab": {
          "base_uri": "https://localhost:8080/"
        },
        "id": "ZsY6w2i9139E",
        "outputId": "d4603ec4-0844-40c2-afac-59af7cc3504b"
      },
      "execution_count": null,
      "outputs": [
        {
          "output_type": "stream",
          "name": "stdout",
          "text": [
            "berat badan saya adalah 50Kg.\n"
          ]
        }
      ]
    },
    {
      "cell_type": "code",
      "source": [
        "print(f\"perkenalkan nama saya {Nama}.\")"
      ],
      "metadata": {
        "colab": {
          "base_uri": "https://localhost:8080/"
        },
        "id": "7h9uHoDT10_X",
        "outputId": "a8402bc5-d3e3-4822-9ff1-0283113f6890"
      },
      "execution_count": null,
      "outputs": [
        {
          "output_type": "stream",
          "name": "stdout",
          "text": [
            "perkenalkan nama saya Elkana Taltha Nydia Prasanti.\n"
          ]
        }
      ]
    },
    {
      "cell_type": "markdown",
      "source": [],
      "metadata": {
        "id": "5GXdmR0u38Ni"
      }
    },
    {
      "cell_type": "markdown",
      "source": [],
      "metadata": {
        "id": "s73xaSoRtow5"
      }
    },
    {
      "cell_type": "code",
      "source": [],
      "metadata": {
        "id": "Cpc7vUputpjC"
      },
      "execution_count": null,
      "outputs": []
    },
    {
      "cell_type": "markdown",
      "source": [
        "Nama"
      ],
      "metadata": {
        "id": "-chTgxustqHN"
      }
    },
    {
      "cell_type": "markdown",
      "source": [
        "#Escape Character"
      ],
      "metadata": {
        "id": "SXaGAlNq2nK0"
      }
    },
    {
      "cell_type": "markdown",
      "source": [],
      "metadata": {
        "id": "4EFRyPs_tytc"
      }
    },
    {
      "cell_type": "code",
      "source": [
        "print(\"Nama/t/t t:Elkana Taltha Nydia Prasanti/nKelas/t/t:X.2/nNo.Absen/t:10\""
      ],
      "metadata": {
        "colab": {
          "base_uri": "https://localhost:8080/",
          "height": 196
        },
        "id": "xZ0ZjDrs3DTm",
        "outputId": "da51a7d9-128a-4c44-ac81-23d3cc9d15b1"
      },
      "execution_count": null,
      "outputs": [
        {
          "output_type": "error",
          "ename": "SyntaxError",
          "evalue": "incomplete input (ipython-input-1576546372.py, line 1)",
          "traceback": [
            "\u001b[0;36m  File \u001b[0;32m\"/tmp/ipython-input-1576546372.py\"\u001b[0;36m, line \u001b[0;32m1\u001b[0m\n\u001b[0;31m    print(\"Nama/t/t t:Elkana Taltha Nydia Prasanti/nKelas/t/t:X.2/nNo.Absen/t:10\"\u001b[0m\n\u001b[0m                                                                                 ^\u001b[0m\n\u001b[0;31mSyntaxError\u001b[0m\u001b[0;31m:\u001b[0m incomplete input\n"
          ]
        }
      ]
    },
    {
      "cell_type": "code",
      "source": [],
      "metadata": {
        "id": "u9mVHk4Z8QZ2"
      },
      "execution_count": null,
      "outputs": []
    },
    {
      "cell_type": "code",
      "source": [
        "print(\"Nama:Elkana Taltha Nydia Prasanti \")\n",
        "print(\"Kelas:X.2\")\n",
        "print(\"No.Absen:10\")"
      ],
      "metadata": {
        "colab": {
          "base_uri": "https://localhost:8080/"
        },
        "id": "_Z9r6Aqi3une",
        "outputId": "90c970b5-5912-4d61-9aec-5e96be349b98"
      },
      "execution_count": null,
      "outputs": [
        {
          "output_type": "stream",
          "name": "stdout",
          "text": [
            "Nama:Elkana Taltha Nydia Prasanti \n",
            "Kelas:X.2\n",
            "No.Absen:10\n"
          ]
        }
      ]
    },
    {
      "cell_type": "code",
      "source": [
        "print('bu shinta mengatakan\"semua bisa dipelajari \"')"
      ],
      "metadata": {
        "colab": {
          "base_uri": "https://localhost:8080/"
        },
        "id": "osVK3Tj_6NdP",
        "outputId": "f78bffb5-5300-4437-ed32-f8836e9fdef9"
      },
      "execution_count": null,
      "outputs": [
        {
          "output_type": "stream",
          "name": "stdout",
          "text": [
            "bu shinta mengatakan\"semua bisa dipelajari \"\n"
          ]
        }
      ]
    }
  ]
}